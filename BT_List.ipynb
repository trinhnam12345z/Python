{
  "nbformat": 4,
  "nbformat_minor": 0,
  "metadata": {
    "colab": {
      "name": "BT-List.ipynb",
      "provenance": [],
      "authorship_tag": "ABX9TyPfPOuPB7IYdybbQNpXedNz",
      "include_colab_link": true
    },
    "kernelspec": {
      "name": "python3",
      "display_name": "Python 3"
    }
  },
  "cells": [
    {
      "cell_type": "markdown",
      "metadata": {
        "id": "view-in-github",
        "colab_type": "text"
      },
      "source": [
        "<a href=\"https://colab.research.google.com/github/trinhnam12345z/Python/blob/main/BT_List.ipynb\" target=\"_parent\"><img src=\"https://colab.research.google.com/assets/colab-badge.svg\" alt=\"Open In Colab\"/></a>"
      ]
    },
    {
      "cell_type": "markdown",
      "metadata": {
        "id": "zgnAlWHKQG9y"
      },
      "source": [
        "**Lập trình thực hiện các yêu cầu sau (xuất bài tập qua github và gửi link nộp bài tập ở đây):**\r\n",
        "1. Tạo một biến x kiểu List rỗng\r\n",
        "2. Thêm giá trị 18 vào x\r\n",
        "3. Thêm giá trị \"Huế\" vào x\r\n",
        "4. Tạo 1 List  y = [12, 45, -1, -0.56, \"abc\"]\r\n",
        "5. Thêm y vào x\r\n",
        "6. Xuất giá trị của x ra màn hình\r\n",
        "7. In ra màn hình giá trị của phần tử cuối cùng và phần tử đầu tiên của x\r\n",
        "8. In ra màn hình giá trị của phần tử đầu tiên đến phần tử thứ 5 của x\r\n",
        "9. In ra màn hình giá trị của phần từ thứ 3 đến cuối cùng của x"
      ]
    },
    {
      "cell_type": "code",
      "metadata": {
        "id": "02gWIvaPP6vu",
        "colab": {
          "base_uri": "https://localhost:8080/"
        },
        "outputId": "307f67d1-6ff2-4ec7-99b8-5cd4b3218b24"
      },
      "source": [
        "#1\r\n",
        "x = []\r\n",
        "#2\r\n",
        "x.append(18)\r\n",
        "#3\r\n",
        "x.append('Huế')\r\n",
        "#4\r\n",
        "y = [12, 45, -1, -0.56, 'abc']\r\n",
        "#5\r\n",
        "x.extend(y)\r\n",
        "#6\r\n",
        "print(x)\r\n",
        "#7\r\n",
        "print('[',x[-1],',',x[0],']')\r\n",
        "#8\r\n",
        "print(x[0:5])\r\n",
        "#9\r\n",
        "print(x[2:])\r\n",
        "\r\n",
        "\r\n",
        "\r\n"
      ],
      "execution_count": 20,
      "outputs": [
        {
          "output_type": "stream",
          "text": [
            "[18, 'Huế', 12, 45, -1, -0.56, 'abc']\n",
            "[ abc , 18 ]\n",
            "[18, 'Huế', 12, 45, -1]\n",
            "[12, 45, -1, -0.56, 'abc']\n"
          ],
          "name": "stdout"
        }
      ]
    }
  ]
}