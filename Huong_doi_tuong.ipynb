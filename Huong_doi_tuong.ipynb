{
  "nbformat": 4,
  "nbformat_minor": 0,
  "metadata": {
    "colab": {
      "name": "Huong doi tuong.ipynb",
      "provenance": [],
      "authorship_tag": "ABX9TyObUJDWzbMTMat0fLcaz+E4",
      "include_colab_link": true
    },
    "kernelspec": {
      "name": "python3",
      "display_name": "Python 3"
    }
  },
  "cells": [
    {
      "cell_type": "markdown",
      "metadata": {
        "id": "view-in-github",
        "colab_type": "text"
      },
      "source": [
        "<a href=\"https://colab.research.google.com/github/trinhnam12345z/Python/blob/main/Huong_doi_tuong.ipynb\" target=\"_parent\"><img src=\"https://colab.research.google.com/assets/colab-badge.svg\" alt=\"Open In Colab\"/></a>"
      ]
    },
    {
      "cell_type": "code",
      "metadata": {
        "colab": {
          "base_uri": "https://localhost:8080/"
        },
        "id": "8rVm58qpnpKm",
        "outputId": "54adc3b9-e3f1-44da-a7a9-6b33d62210b0"
      },
      "source": [
        "class car:\r\n",
        "\r\n",
        "  def __init__(self, name, engine, color):\r\n",
        "    self.name = name\r\n",
        "    self.engine = engine\r\n",
        "    self.color = color\r\n",
        "\r\n",
        "  lamborghini = car(\"lamborghini\",\"H1\",\"blue\")\r\n",
        "\r\n",
        "  print(lamborghini.name , \"Su dung dong co \",lamborghini.engine,\"Co mau la \",lamborghini.color)\r\n",
        " \r\n",
        "\r\n",
        "  def toString(self):\r\n",
        "    s = 'Xe {} có màu {} và động cơ {} mã lực'.format(self.name, self.color, self.engine)\r\n",
        "    return(s)\r\n",
        "  \r\n",
        "  def key_start(self):\r\n",
        "    print ('{} khởi động bằng khóa điện tử'.format(self.name))\r\n",
        "   \r\n",
        "\r\n",
        "  print(lamborghini.toString())\r\n",
        "\r\n",
        "  lamborghini.key_start()\r\n",
        "\r\n",
        "  \r\n",
        "\r\n",
        "  "
      ],
      "execution_count": 41,
      "outputs": [
        {
          "output_type": "stream",
          "text": [
            "lamborghini Su dung dong co  H1 Co mau la  blue\n",
            "Xe lamborghini có màu blue và động cơ H1 mã lực\n",
            "lamborghini khởi động bằng khóa điện tử\n"
          ],
          "name": "stdout"
        }
      ]
    },
    {
      "cell_type": "code",
      "metadata": {
        "colab": {
          "base_uri": "https://localhost:8080/"
        },
        "id": "luFwgc4v3bCV",
        "outputId": "7fba4a04-40ec-44e5-9b92-ce1a994e8c52"
      },
      "source": [
        "class truck(car):\r\n",
        "  def __init__(self,name,engine,color,weight):\r\n",
        "    super().__init__(name,engine,color)\r\n",
        "    self.weight = weight \r\n",
        "\r\n",
        "  def __str__(self):\r\n",
        "    return 'Xe {} có màu {} và động cơ {} mã lực tải trọng {}'.format(self.name, self.color, self.engine,self.weight)\r\n",
        "  \r\n",
        "  def key_start(self):\r\n",
        "    print ('{} khởi động bằng khóa cơ'.format(self.name))\r\n",
        "\r\n",
        "xetai = truck(\"xe tải\",\"h2\",\"green\",20)\r\n",
        "\r\n",
        "print(xetai)\r\n",
        "xetai.key_start()"
      ],
      "execution_count": 42,
      "outputs": [
        {
          "output_type": "stream",
          "text": [
            "Xe xe tai có màu green và động cơ h2 mã lực tải trọng 20\n",
            "xe tai khởi động bằng khóa cơ\n"
          ],
          "name": "stdout"
        }
      ]
    },
    {
      "cell_type": "code",
      "metadata": {
        "id": "YZ2sWXUAn4IC"
      },
      "source": [
        ""
      ],
      "execution_count": null,
      "outputs": []
    }
  ]
}