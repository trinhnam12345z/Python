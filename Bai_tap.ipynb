{
  "nbformat": 4,
  "nbformat_minor": 0,
  "metadata": {
    "colab": {
      "name": "Bai tap.ipynb",
      "provenance": [],
      "authorship_tag": "ABX9TyOY9Th4rWt88xovhXpltYzb",
      "include_colab_link": true
    },
    "kernelspec": {
      "name": "python3",
      "display_name": "Python 3"
    }
  },
  "cells": [
    {
      "cell_type": "markdown",
      "metadata": {
        "id": "view-in-github",
        "colab_type": "text"
      },
      "source": [
        "<a href=\"https://colab.research.google.com/github/trinhnam12345z/Python/blob/main/Bai_tap.ipynb\" target=\"_parent\"><img src=\"https://colab.research.google.com/assets/colab-badge.svg\" alt=\"Open In Colab\"/></a>"
      ]
    },
    {
      "cell_type": "markdown",
      "metadata": {
        "id": "sMJ5KoiBMARd"
      },
      "source": [
        "**BÀI TẬP LẬP TRÌNH CHƯƠNG 2**\n",
        "\n",
        "Bài 1: Lập trình nhập vào từ bàn phím 2 số nguyên và tính:\n",
        "\n",
        "\n",
        "1.   Tổng của 2 số\n",
        "2.   Tích của 2 số\n",
        "3.   Hiệu của 2 số\n",
        "4.   Phép chia lấy phần dư của 2 số\n",
        "5.   Phép chia lấy phần nguyên của 2 số\n",
        "\n",
        "Kết quả xuất ra màn hình\n",
        "\n"
      ]
    },
    {
      "cell_type": "code",
      "metadata": {
        "id": "Os5z0wPpL1Nk",
        "colab": {
          "base_uri": "https://localhost:8080/"
        },
        "outputId": "420ad9b6-dcb0-4be7-aec5-8e539bca5c25"
      },
      "source": [
        "a =float(input('a = '))\n",
        "b= float(input('b = '))\n",
        "c=a+b\n",
        "print('a+b = ',c)\n"
      ],
      "execution_count": null,
      "outputs": [
        {
          "output_type": "stream",
          "text": [
            "a = 5\n",
            "b = 2\n",
            "a+b =  7.0\n"
          ],
          "name": "stdout"
        }
      ]
    },
    {
      "cell_type": "markdown",
      "metadata": {
        "id": "j2suJwVPM5Zk"
      },
      "source": [
        "Bài 2: Lập trình nhập vào từ bàn phím 2 số thực và tính:\n",
        "\n",
        "1.   Tổng của 2 số\n",
        "2.   Tích của 2 số\n",
        "3.   Hiệu của 2 số\n",
        "4.   Thương của 2 số\n",
        "\n",
        "Kết quả xuất ra màn hình"
      ]
    },
    {
      "cell_type": "code",
      "metadata": {
        "id": "fmlD-ggRMh9q",
        "colab": {
          "base_uri": "https://localhost:8080/"
        },
        "outputId": "94f7ee60-e05b-455a-d7c8-b502d8e40bf6"
      },
      "source": [
        "a =float(input('a = '))\n",
        "b= float(input('b = '))\n",
        "tong = a + b\n",
        "tich = a * b\n",
        "print('tong cua ',a,'+',b,'=',tong)\n",
        "print('tich cua ',a,'*',b,'=',tich)\n",
        "if a>b:\n",
        "  hieu = a - b\n",
        "  print('hieu cua ',a,'-',b,'=',hieu)\n",
        "  thuong = a / b\n",
        "  print('thuong cua ',a,'/',b,'=',thuong)\n",
        "else:\n",
        "  hieu = b- a\n",
        "  print('hieu cua ',b,'-',a,'=',hieu)\n",
        "  thuong = b / a\n",
        "  print('thuong cua ',b,'/',a,'=',thuong)\n"
      ],
      "execution_count": null,
      "outputs": [
        {
          "output_type": "stream",
          "text": [
            "a = 5\n",
            "b = 7\n",
            "tong cua  5.0 + 7.0 = 12.0\n",
            "tich cua  5.0 * 7.0 = 35.0\n",
            "hieu cua  7.0 - 5.0 = 2.0\n",
            "thuong cua  7.0 / 5.0 = 1.4\n"
          ],
          "name": "stdout"
        }
      ]
    },
    {
      "cell_type": "markdown",
      "metadata": {
        "id": "sOCly6AvNUAN"
      },
      "source": [
        "Bài 3: (Sử dụng các hàm toán học) Nhập một số từ bàn phím và tính:\n",
        "\n",
        "\n",
        "\n",
        "1.   Trị tuyệt đối\n",
        "2.   Lấy phần nguyên của số\n",
        "3.   Chuyển đổi thành số thực\n",
        "4.   (nhập thêm 1 số từ bàn phím) và tính lũy thừa $ x^y $\n",
        "5.   Tính căn bậc hai\n",
        "\n",
        "Kết quả xuất ra màn hình\n",
        "\n"
      ]
    },
    {
      "cell_type": "code",
      "metadata": {
        "id": "XNKN4yAoOUAa",
        "colab": {
          "base_uri": "https://localhost:8080/"
        },
        "outputId": "082f1a45-d9fd-46c4-b5ce-87c440d2fe8c"
      },
      "source": [
        "import math\n",
        "x = float(input('Nhap x :'))\n",
        "print('1.Tri tuyet doi cua x :', x ,'=', abs(x))\n",
        "print('2.Phan nguyen cua x :', x ,'=', int(x))\n",
        "print('3.So thuc cua x :', x ,'=', float(x))\n",
        "y = int(input('Nhap y :'))\n",
        "print('4.Luy thua cua x^y :', x ,'^',y,'=', pow(x,y))\n",
        "print('5.Can bac 2 cua x :', x ,'=', math.sqrt(x))\n"
      ],
      "execution_count": 5,
      "outputs": [
        {
          "output_type": "stream",
          "text": [
            "Nhap x :4.2\n",
            "1.Tri tuyet doi cua x : 4.2 = 4.2\n",
            "2.Phan nguyen cua x : 4.2 = 4\n",
            "3.So thuc cua x : 4.2 = 4.2\n",
            "Nhap y :3\n",
            "4.Luy thua cua x^y : 4.2 ^ 3 = 74.08800000000001\n",
            "5.Can bac 2 cua x : 4.2 = 2.04939015319192\n"
          ],
          "name": "stdout"
        }
      ]
    },
    {
      "cell_type": "markdown",
      "metadata": {
        "id": "79zQGrU5Od-d"
      },
      "source": [
        "Bài 4: Nhập 2 số từ bàn phím và thực hiện các phép so sánh sau giữa 2 số:\n",
        "\n",
        "\n",
        "\n",
        "1.   $ \\geq $\n",
        "2.   $ \\leq $\n",
        "3.   $ > $\n",
        "4.   $ < $\n",
        "5.   $ \\neq $\n",
        "\n",
        "Kết quả xuất ra màn hình\n"
      ]
    },
    {
      "cell_type": "code",
      "metadata": {
        "id": "qePknJEaP1tL",
        "colab": {
          "base_uri": "https://localhost:8080/"
        },
        "outputId": "5a584216-4892-4e60-f7d3-c7d99b8cdb6a"
      },
      "source": [
        "x = float(input('Nhap x :'))\n",
        "y = float(input('Nhap y :'))\n",
        "sosanh =''\n",
        "if x>=y:\n",
        "  sosanh = 'dung'\n",
        "else:\n",
        "  sosanh = 'sai'\n",
        "if x<=y:\n",
        "  sosanh2 = 'dung'\n",
        "else:\n",
        "  sosanh2 = 'sai'\n",
        "if x>y:\n",
        "  sosanh3 = 'dung'\n",
        "else:\n",
        "  sosanh3 = 'sai'\n",
        "if x<y:\n",
        "  sosanh4 = 'dung'\n",
        "else:\n",
        "  sosanh4 = 'sai'\n",
        "if x!=y:\n",
        "  sosanh5 = 'dung'\n",
        "else:\n",
        "  sosanh5 = 'sai'\n",
        "\n",
        "print('1.',x,'>=',y,sosanh)\n",
        "print('2.',x,'<=',y,sosanh2)\n",
        "print('3.',x,'>',y,sosanh3)\n",
        "print('4.',x,'<',y,sosanh4)\n",
        "print('5.',x,'!=',y,sosanh5)\n"
      ],
      "execution_count": 9,
      "outputs": [
        {
          "output_type": "stream",
          "text": [
            "Nhap x :5\n",
            "Nhap y :4\n",
            "1. 5.0 >= 4.0 dung\n",
            "2. 5.0 <= 4.0 sai\n",
            "3. 5.0 > 4.0 dung\n",
            "4. 5.0 < 4.0 sai\n",
            "5. 5.0 != 4.0 dung\n"
          ],
          "name": "stdout"
        }
      ]
    },
    {
      "cell_type": "markdown",
      "metadata": {
        "id": "90lU8sTXP4hu"
      },
      "source": [
        "Bài 5: Nhập 1 chuỗi ký tự từ bàn phím:\n",
        "\n",
        "\n",
        "\n",
        "1.   Chuyển thành chuỗi in hoa\n",
        "2.   Chuyển thành chuỗi in thường\n",
        "\n",
        "Kết quả xuất ra màn hình\n",
        "\n",
        "\n",
        "\n"
      ]
    },
    {
      "cell_type": "code",
      "metadata": {
        "id": "PWIIssukQXja",
        "colab": {
          "base_uri": "https://localhost:8080/"
        },
        "outputId": "9ae0ae02-b635-45cd-8c38-137db80c9fe8"
      },
      "source": [
        "str = input('Nhap mot chuoi :')\n",
        "print('1.CHUYEN CHUOI THANH CHU HOA :')\n",
        "print (str.upper())\n",
        "print('2.chuyen chuoi thanh chu thuong :')\n",
        "print (str.lower())\n",
        "\n",
        "\n"
      ],
      "execution_count": 16,
      "outputs": [
        {
          "output_type": "stream",
          "text": [
            "Nhap mot chuoi :Nam dep trai\n",
            "1.CHUYEN CHUOI THANH CHU HOA :\n",
            "NAM DEP TRAI\n",
            "2.chuyen chuoi thanh chu thuong :\n",
            "nam dep trai\n"
          ],
          "name": "stdout"
        }
      ]
    },
    {
      "cell_type": "markdown",
      "metadata": {
        "id": "gv9n9-gMQZ7O"
      },
      "source": [
        "Bài 6: Xuất ra màn hình 1 chuỗi ký từ nằm trên nhiều hàng (có thể là 1 bài thơ tùy ý bạn lựa chọn)"
      ]
    },
    {
      "cell_type": "code",
      "metadata": {
        "id": "ZcjBCkQOQoS0",
        "colab": {
          "base_uri": "https://localhost:8080/"
        },
        "outputId": "a6b8f0da-4286-48f0-d861-304e98ffe804"
      },
      "source": [
        "print('Sóng bắt đầu từ gió\\nGió bắt đầu từ đâu?\\nEm cũng không biết nữa\\nKhi nào ta yêu nhau')\n",
        "\n",
        "\n",
        "\n"
      ],
      "execution_count": 20,
      "outputs": [
        {
          "output_type": "stream",
          "text": [
            "Sóng bắt đầu từ gió\n",
            "Gió bắt đầu từ đâu?\n",
            "Em cũng không biết nữa\n",
            "Khi nào ta yêu nhau\n"
          ],
          "name": "stdout"
        }
      ]
    }
  ]
}